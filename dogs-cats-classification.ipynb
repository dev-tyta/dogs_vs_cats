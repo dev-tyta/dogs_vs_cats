{
 "cells": [
  {
   "cell_type": "code",
   "execution_count": 1,
   "metadata": {},
   "outputs": [],
   "source": [
    "import tensorflow as tf\n",
    "import os\n",
    "from pathlib import Path\n",
    "from tqdm import tqdm"
   ]
  },
  {
   "cell_type": "code",
   "execution_count": 2,
   "metadata": {},
   "outputs": [],
   "source": [
    "import pandas as pd\n",
    "import numpy as np"
   ]
  },
  {
   "cell_type": "code",
   "execution_count": 3,
   "metadata": {},
   "outputs": [],
   "source": [
    "from tensorflow.keras.preprocessing.image import ImageDataGenerator\n",
    "from tensorflow.keras.optimizers import RMSprop, SGD\n",
    "from tensorflow.keras import Sequential, models, layers"
   ]
  },
  {
   "cell_type": "code",
   "execution_count": 4,
   "metadata": {},
   "outputs": [],
   "source": [
    "train_dir = Path(\"Datasets/dogs-vs-cats/train\")\n",
    "test_dir = Path(\"Datasets/dogs-vs-cats/test1\")"
   ]
  },
  {
   "cell_type": "code",
   "execution_count": 5,
   "metadata": {},
   "outputs": [
    {
     "data": {
      "text/html": [
       "<div>\n",
       "<style scoped>\n",
       "    .dataframe tbody tr th:only-of-type {\n",
       "        vertical-align: middle;\n",
       "    }\n",
       "\n",
       "    .dataframe tbody tr th {\n",
       "        vertical-align: top;\n",
       "    }\n",
       "\n",
       "    .dataframe thead th {\n",
       "        text-align: right;\n",
       "    }\n",
       "</style>\n",
       "<table border=\"1\" class=\"dataframe\">\n",
       "  <thead>\n",
       "    <tr style=\"text-align: right;\">\n",
       "      <th></th>\n",
       "      <th>image_name</th>\n",
       "      <th>label</th>\n",
       "    </tr>\n",
       "  </thead>\n",
       "  <tbody>\n",
       "    <tr>\n",
       "      <th>0</th>\n",
       "      <td>cat</td>\n",
       "      <td>cat</td>\n",
       "    </tr>\n",
       "    <tr>\n",
       "      <th>1</th>\n",
       "      <td>dog</td>\n",
       "      <td>dog</td>\n",
       "    </tr>\n",
       "  </tbody>\n",
       "</table>\n",
       "</div>"
      ],
      "text/plain": [
       "  image_name label\n",
       "0        cat   cat\n",
       "1        dog   dog"
      ]
     },
     "execution_count": 5,
     "metadata": {},
     "output_type": "execute_result"
    }
   ],
   "source": [
    "train_df = pd.DataFrame({'image_name':os.listdir(train_dir)})\n",
    "train_df['label'] =train_df['image_name'].apply(lambda x: x.split('.')[0])\n",
    "train_df"
   ]
  },
  {
   "cell_type": "code",
   "execution_count": 6,
   "metadata": {},
   "outputs": [
    {
     "data": {
      "text/html": [
       "<div>\n",
       "<style scoped>\n",
       "    .dataframe tbody tr th:only-of-type {\n",
       "        vertical-align: middle;\n",
       "    }\n",
       "\n",
       "    .dataframe tbody tr th {\n",
       "        vertical-align: top;\n",
       "    }\n",
       "\n",
       "    .dataframe thead th {\n",
       "        text-align: right;\n",
       "    }\n",
       "</style>\n",
       "<table border=\"1\" class=\"dataframe\">\n",
       "  <thead>\n",
       "    <tr style=\"text-align: right;\">\n",
       "      <th></th>\n",
       "      <th>image_name</th>\n",
       "      <th>label</th>\n",
       "    </tr>\n",
       "  </thead>\n",
       "  <tbody>\n",
       "    <tr>\n",
       "      <th>0</th>\n",
       "      <td>1.jpg</td>\n",
       "      <td>1</td>\n",
       "    </tr>\n",
       "    <tr>\n",
       "      <th>1</th>\n",
       "      <td>10.jpg</td>\n",
       "      <td>10</td>\n",
       "    </tr>\n",
       "    <tr>\n",
       "      <th>2</th>\n",
       "      <td>100.jpg</td>\n",
       "      <td>100</td>\n",
       "    </tr>\n",
       "    <tr>\n",
       "      <th>3</th>\n",
       "      <td>1000.jpg</td>\n",
       "      <td>1000</td>\n",
       "    </tr>\n",
       "    <tr>\n",
       "      <th>4</th>\n",
       "      <td>10000.jpg</td>\n",
       "      <td>10000</td>\n",
       "    </tr>\n",
       "    <tr>\n",
       "      <th>...</th>\n",
       "      <td>...</td>\n",
       "      <td>...</td>\n",
       "    </tr>\n",
       "    <tr>\n",
       "      <th>12495</th>\n",
       "      <td>9995.jpg</td>\n",
       "      <td>9995</td>\n",
       "    </tr>\n",
       "    <tr>\n",
       "      <th>12496</th>\n",
       "      <td>9996.jpg</td>\n",
       "      <td>9996</td>\n",
       "    </tr>\n",
       "    <tr>\n",
       "      <th>12497</th>\n",
       "      <td>9997.jpg</td>\n",
       "      <td>9997</td>\n",
       "    </tr>\n",
       "    <tr>\n",
       "      <th>12498</th>\n",
       "      <td>9998.jpg</td>\n",
       "      <td>9998</td>\n",
       "    </tr>\n",
       "    <tr>\n",
       "      <th>12499</th>\n",
       "      <td>9999.jpg</td>\n",
       "      <td>9999</td>\n",
       "    </tr>\n",
       "  </tbody>\n",
       "</table>\n",
       "<p>12500 rows × 2 columns</p>\n",
       "</div>"
      ],
      "text/plain": [
       "      image_name  label\n",
       "0          1.jpg      1\n",
       "1         10.jpg     10\n",
       "2        100.jpg    100\n",
       "3       1000.jpg   1000\n",
       "4      10000.jpg  10000\n",
       "...          ...    ...\n",
       "12495   9995.jpg   9995\n",
       "12496   9996.jpg   9996\n",
       "12497   9997.jpg   9997\n",
       "12498   9998.jpg   9998\n",
       "12499   9999.jpg   9999\n",
       "\n",
       "[12500 rows x 2 columns]"
      ]
     },
     "execution_count": 6,
     "metadata": {},
     "output_type": "execute_result"
    }
   ],
   "source": [
    "test_df = pd.DataFrame({'image_name':os.listdir(test_dir)})\n",
    "test_df['label'] =test_df['image_name'].apply(lambda x: x.split('.')[0])\n",
    "test_df"
   ]
  },
  {
   "cell_type": "code",
   "execution_count": 7,
   "metadata": {},
   "outputs": [],
   "source": [
    "# dog_path_train = os.path.join(train_dir, 'dog')\n",
    "# os.mkdir(dog_path_train)\n",
    "# dog_df_train = train_df[train_df.label=='dog']\n"
   ]
  },
  {
   "cell_type": "code",
   "execution_count": 8,
   "metadata": {},
   "outputs": [],
   "source": [
    "# for n in tqdm(dog_df_train.image_name):\n",
    "#     os.rename((os.path.join(train_dir, n)), (os.path.join(dog_path_train, n)))"
   ]
  },
  {
   "cell_type": "code",
   "execution_count": 9,
   "metadata": {},
   "outputs": [],
   "source": [
    "# cat_path_train = os.path.join(train_dir, 'cat')\n",
    "# os.mkdir(cat_path_train)\n",
    "# cat_df_train = train_df[train_df.label=='cat']\n"
   ]
  },
  {
   "cell_type": "code",
   "execution_count": 10,
   "metadata": {},
   "outputs": [],
   "source": [
    "# for n in tqdm(cat_df_train.image_name):\n",
    "#     os.rename((os.path.join(train_dir, n)), (os.path.join(cat_path_train, n)))"
   ]
  },
  {
   "cell_type": "code",
   "execution_count": 11,
   "metadata": {},
   "outputs": [],
   "source": [
    "train_datagen = ImageDataGenerator(rescale= 1./255, validation_split= 0.3)"
   ]
  },
  {
   "cell_type": "code",
   "execution_count": 12,
   "metadata": {},
   "outputs": [
    {
     "name": "stdout",
     "output_type": "stream",
     "text": [
      "Found 17500 images belonging to 2 classes.\n"
     ]
    }
   ],
   "source": [
    "train_generator = train_datagen.flow_from_directory(\n",
    "    train_dir,\n",
    "    target_size= (150, 150),\n",
    "    class_mode='binary',\n",
    "    subset='training'\n",
    ")"
   ]
  },
  {
   "cell_type": "code",
   "execution_count": 13,
   "metadata": {},
   "outputs": [
    {
     "name": "stdout",
     "output_type": "stream",
     "text": [
      "Found 7500 images belonging to 2 classes.\n"
     ]
    }
   ],
   "source": [
    "validation_generator = train_datagen.flow_from_directory(\n",
    "    train_dir,\n",
    "    target_size= (150, 150),\n",
    "    class_mode= 'binary',\n",
    "    subset= 'validation'\n",
    ")"
   ]
  },
  {
   "cell_type": "code",
   "execution_count": 14,
   "metadata": {},
   "outputs": [],
   "source": [
    "model = Sequential([\n",
    "    layers.Conv2D(16, (3,3), activation= 'relu', input_shape =(150, 150, 3)),\n",
    "    layers.MaxPooling2D(2,2),\n",
    "    layers.Conv2D(32, (3,3), activation= 'relu'),\n",
    "    layers.MaxPooling2D(2,2),\n",
    "    layers.Conv2D(64, (3,3), activation= 'relu'),\n",
    "    layers.MaxPooling2D(2,2),\n",
    "    layers.Conv2D(64, (3,3), activation= 'relu'),\n",
    "    layers.MaxPooling2D(2,2),\n",
    "    layers.Conv2D(64, (3,3), activation= 'relu'),\n",
    "    layers.MaxPooling2D(2,2),\n",
    "    layers.Flatten(),\n",
    "    layers.Dense(512, activation= 'relu'),\n",
    "    layers.Dense(1,activation= 'sigmoid'),\n",
    "])"
   ]
  },
  {
   "cell_type": "code",
   "execution_count": 15,
   "metadata": {},
   "outputs": [
    {
     "name": "stdout",
     "output_type": "stream",
     "text": [
      "Model: \"sequential\"\n",
      "_________________________________________________________________\n",
      "Layer (type)                 Output Shape              Param #   \n",
      "=================================================================\n",
      "conv2d (Conv2D)              (None, 148, 148, 16)      448       \n",
      "_________________________________________________________________\n",
      "max_pooling2d (MaxPooling2D) (None, 74, 74, 16)        0         \n",
      "_________________________________________________________________\n",
      "conv2d_1 (Conv2D)            (None, 72, 72, 32)        4640      \n",
      "_________________________________________________________________\n",
      "max_pooling2d_1 (MaxPooling2 (None, 36, 36, 32)        0         \n",
      "_________________________________________________________________\n",
      "conv2d_2 (Conv2D)            (None, 34, 34, 64)        18496     \n",
      "_________________________________________________________________\n",
      "max_pooling2d_2 (MaxPooling2 (None, 17, 17, 64)        0         \n",
      "_________________________________________________________________\n",
      "conv2d_3 (Conv2D)            (None, 15, 15, 64)        36928     \n",
      "_________________________________________________________________\n",
      "max_pooling2d_3 (MaxPooling2 (None, 7, 7, 64)          0         \n",
      "_________________________________________________________________\n",
      "conv2d_4 (Conv2D)            (None, 5, 5, 64)          36928     \n",
      "_________________________________________________________________\n",
      "max_pooling2d_4 (MaxPooling2 (None, 2, 2, 64)          0         \n",
      "_________________________________________________________________\n",
      "flatten (Flatten)            (None, 256)               0         \n",
      "_________________________________________________________________\n",
      "dense (Dense)                (None, 512)               131584    \n",
      "_________________________________________________________________\n",
      "dense_1 (Dense)              (None, 1)                 513       \n",
      "=================================================================\n",
      "Total params: 229,537\n",
      "Trainable params: 229,537\n",
      "Non-trainable params: 0\n",
      "_________________________________________________________________\n"
     ]
    }
   ],
   "source": [
    "model.summary()"
   ]
  },
  {
   "cell_type": "code",
   "execution_count": 16,
   "metadata": {},
   "outputs": [],
   "source": [
    "model.compile(loss= 'binary_crossentropy',\n",
    "             optimizer = RMSprop(learning_rate= 0.001),\n",
    "              metrics= ['accuracy']\n",
    "             )"
   ]
  },
  {
   "cell_type": "code",
   "execution_count": 17,
   "metadata": {},
   "outputs": [],
   "source": [
    "class mycallback(tf.keras.callbacks.Callback):\n",
    "    def on_epoch_end(self,epoch,logs={}):\n",
    "        if(logs.get('val_accuracy')>=0.90):\n",
    "            self.model.stop_training = True\n",
    "            \n",
    "callback = mycallback()"
   ]
  },
  {
   "cell_type": "code",
   "execution_count": null,
   "metadata": {},
   "outputs": [
    {
     "name": "stdout",
     "output_type": "stream",
     "text": [
      "Epoch 1/30\n",
      "350/350 [==============================] - 1398s 4s/step - loss: 0.6645 - accuracy: 0.5979 - val_loss: 0.5959 - val_accuracy: 0.6777\n",
      "Epoch 2/30\n",
      "350/350 [==============================] - 1314s 4s/step - loss: 0.5648 - accuracy: 0.7081 - val_loss: 0.6283 - val_accuracy: 0.6752\n",
      "Epoch 3/30\n",
      "350/350 [==============================] - 1778s 5s/step - loss: 0.5076 - accuracy: 0.7533 - val_loss: 0.4409 - val_accuracy: 0.7958\n",
      "Epoch 4/30\n",
      "350/350 [==============================] - 1116s 3s/step - loss: 0.4478 - accuracy: 0.7902 - val_loss: 0.4309 - val_accuracy: 0.7998\n",
      "Epoch 5/30\n",
      "350/350 [==============================] - 727s 2s/step - loss: 0.3958 - accuracy: 0.8196 - val_loss: 0.3708 - val_accuracy: 0.8331\n",
      "Epoch 6/30\n",
      "350/350 [==============================] - 672s 2s/step - loss: 0.3529 - accuracy: 0.8454 - val_loss: 0.3488 - val_accuracy: 0.8475\n",
      "Epoch 7/30\n",
      "350/350 [==============================] - 606s 2s/step - loss: 0.3226 - accuracy: 0.8594 - val_loss: 0.3272 - val_accuracy: 0.8562\n",
      "Epoch 8/30\n",
      "350/350 [==============================] - 29354s 84s/step - loss: 0.2974 - accuracy: 0.8701 - val_loss: 0.3081 - val_accuracy: 0.8642\n",
      "Epoch 9/30\n",
      "350/350 [==============================] - 611s 2s/step - loss: 0.2668 - accuracy: 0.8892 - val_loss: 0.3124 - val_accuracy: 0.8665\n",
      "Epoch 10/30\n",
      "350/350 [==============================] - 623s 2s/step - loss: 0.2444 - accuracy: 0.8955 - val_loss: 0.3210 - val_accuracy: 0.8644\n",
      "Epoch 11/30\n",
      "350/350 [==============================] - 732s 2s/step - loss: 0.2257 - accuracy: 0.9091 - val_loss: 0.2996 - val_accuracy: 0.8733\n",
      "Epoch 12/30\n",
      "350/350 [==============================] - 829s 2s/step - loss: 0.2165 - accuracy: 0.9086 - val_loss: 0.2934 - val_accuracy: 0.8846\n",
      "Epoch 13/30\n",
      "350/350 [==============================] - 827s 2s/step - loss: 0.1928 - accuracy: 0.9222 - val_loss: 0.3566 - val_accuracy: 0.8696\n",
      "Epoch 14/30\n",
      "350/350 [==============================] - 796s 2s/step - loss: 0.1802 - accuracy: 0.9273 - val_loss: 0.3164 - val_accuracy: 0.8744\n",
      "Epoch 15/30\n",
      "350/350 [==============================] - 661s 2s/step - loss: 0.1683 - accuracy: 0.9335 - val_loss: 0.3203 - val_accuracy: 0.8706\n",
      "Epoch 16/30\n",
      "350/350 [==============================] - 700s 2s/step - loss: 0.1591 - accuracy: 0.9373 - val_loss: 0.4740 - val_accuracy: 0.8617\n",
      "Epoch 17/30\n",
      "350/350 [==============================] - 690s 2s/step - loss: 0.1486 - accuracy: 0.9452 - val_loss: 0.3642 - val_accuracy: 0.8675\n",
      "Epoch 18/30\n",
      "350/350 [==============================] - 633s 2s/step - loss: 0.1404 - accuracy: 0.9464 - val_loss: 0.4548 - val_accuracy: 0.8394\n",
      "Epoch 19/30\n",
      "350/350 [==============================] - 26592s 76s/step - loss: 0.1331 - accuracy: 0.9513 - val_loss: 0.3161 - val_accuracy: 0.8808\n",
      "Epoch 20/30\n",
      "350/350 [==============================] - 777s 2s/step - loss: 0.1231 - accuracy: 0.9534 - val_loss: 0.4857 - val_accuracy: 0.8665\n",
      "Epoch 21/30\n",
      "350/350 [==============================] - 715s 2s/step - loss: 0.1207 - accuracy: 0.9530 - val_loss: 0.3583 - val_accuracy: 0.8829\n",
      "Epoch 22/30\n",
      "350/350 [==============================] - 4323s 12s/step - loss: 0.1188 - accuracy: 0.9587 - val_loss: 0.3571 - val_accuracy: 0.8758\n",
      "Epoch 23/30\n",
      "350/350 [==============================] - 786s 2s/step - loss: 0.1094 - accuracy: 0.9614 - val_loss: 0.4217 - val_accuracy: 0.8796\n",
      "Epoch 24/30\n",
      "350/350 [==============================] - 732s 2s/step - loss: 0.1157 - accuracy: 0.9587 - val_loss: 0.4386 - val_accuracy: 0.8890\n",
      "Epoch 25/30\n",
      "350/350 [==============================] - 708s 2s/step - loss: 0.1044 - accuracy: 0.9614 - val_loss: 0.3943 - val_accuracy: 0.8894\n",
      "Epoch 26/30\n",
      "350/350 [==============================] - 5465s 16s/step - loss: 0.1108 - accuracy: 0.9643 - val_loss: 0.3935 - val_accuracy: 0.8662\n",
      "Epoch 27/30\n",
      "350/350 [==============================] - 1591s 5s/step - loss: 0.0966 - accuracy: 0.9661 - val_loss: 0.3968 - val_accuracy: 0.8840\n",
      "Epoch 28/30\n",
      "350/350 [==============================] - ETA: 0s - loss: 0.0965 - accuracy: 0.9660"
     ]
    }
   ],
   "source": [
    "history = model.fit(\n",
    "    train_generator,\n",
    "    steps_per_epoch = train_generator.samples//50,#batch_size, \n",
    "    epochs = 30,\n",
    "    verbose=1,\n",
    "    validation_data = validation_generator,\n",
    "    validation_steps = validation_generator.samples//50,#batch_size,\n",
    "    callbacks=[callback]\n",
    ")"
   ]
  },
  {
   "cell_type": "code",
   "execution_count": null,
   "metadata": {},
   "outputs": [],
   "source": [
    "import matplotlib.pyplot as plt"
   ]
  },
  {
   "cell_type": "code",
   "execution_count": null,
   "metadata": {},
   "outputs": [],
   "source": [
    "acc = history.history['accuracy']\n",
    "val_acc = history.history['val_accuracy']\n",
    "\n",
    "loss = history.history['loss']\n",
    "val_loss = history.history['val_loss']\n",
    "\n",
    "plt.figure(figsize=(8, 8))\n",
    "plt.subplot(2, 1, 1)\n",
    "plt.plot(acc, label='Training Accuracy')\n",
    "plt.plot(val_acc, label='Validation Accuracy')\n",
    "plt.legend(loc='lower right')\n",
    "plt.ylabel('Accuracy')\n",
    "plt.ylim([min(plt.ylim()),1])\n",
    "plt.title('Training and Validation Accuracy')\n",
    "\n",
    "plt.subplot(2, 1, 2)\n",
    "plt.plot(loss, label='Training Loss')\n",
    "plt.plot(val_loss, label='Validation Loss')\n",
    "plt.legend(loc='upper right')\n",
    "plt.ylabel('Cross Entropy')\n",
    "plt.ylim([0,1.0])\n",
    "plt.title('Training and Validation Loss')\n",
    "plt.xlabel('epoch')\n",
    "plt.show()"
   ]
  },
  {
   "cell_type": "code",
   "execution_count": null,
   "metadata": {
    "tags": []
   },
   "outputs": [],
   "source": [
    " import numpy as np\n",
    "from tensorflow.keras.preprocessing import image\n",
    "import os\n",
    "\n",
    "#new = Path.('\\dogs-vs-cats\\test1')\n",
    "imag = os.chdir(r'C:\\Users\\Hp 15\\Documents\\My_files\\Image Classification\\dogs-vs-cats\\test1')\n",
    "\n",
    "images = os.listdir(r'C:\\Users\\Hp 15\\Documents\\My_files\\Image Classification\\dogs-vs-cats\\test1')\n",
    "print(images)\n",
    "\n"
   ]
  },
  {
   "cell_type": "code",
   "execution_count": null,
   "metadata": {
    "tags": []
   },
   "outputs": [],
   "source": [
    "for i in images:\n",
    "    print()\n",
    "    # predicting images\n",
    "    path = r'C:\\Users\\Hp 15\\Documents\\My_files\\Image Classification\\dogs-vs-cats\\test1/' + i\n",
    "    img = image.load_img(path, target_size=(150, 150))\n",
    "    x = image.img_to_array(img)\n",
    "    x /= 255\n",
    "    x = np.expand_dims(x, axis=0)\n",
    "\n",
    "    images = np.vstack([x])\n",
    "    classes = model.predict(images, batch_size=10)\n",
    "    print(classes[0])\n",
    "    results = []\n",
    "    if classes[0]>0.5:\n",
    "        results.append('Dog')\n",
    "    else:\n",
    "        results.append('Cat')"
   ]
  },
  {
   "cell_type": "code",
   "execution_count": null,
   "metadata": {},
   "outputs": [],
   "source": [
    "print(results)"
   ]
  },
  {
   "cell_type": "code",
   "execution_count": null,
   "metadata": {},
   "outputs": [],
   "source": [
    "img = os.listdir(r'C:\\Users\\Hp 15\\Documents\\My_files\\Image Classification\\tmp')\n",
    "print(img)"
   ]
  },
  {
   "cell_type": "code",
   "execution_count": null,
   "metadata": {},
   "outputs": [],
   "source": [
    "for i in img:\n",
    "    print()\n",
    "    # predicting images\n",
    "    path = r'C:\\Users\\Hp 15\\Documents\\My_files\\Image Classification\\tmp/' + i\n",
    "    img = image.load_img(path, target_size=(150, 150))\n",
    "    x = image.img_to_array(img)\n",
    "    x /= 255\n",
    "    x = np.expand_dims(x, axis=0)\n",
    "\n",
    "    images = np.vstack([x])\n",
    "    classes = model.predict(images, batch_size=10)\n",
    "    print(classes[0])\n",
    "    results = []\n",
    "    if classes[0]>0.5:\n",
    "        results.append('Dog')\n",
    "    else:\n",
    "        results.append('Cat')"
   ]
  },
  {
   "cell_type": "code",
   "execution_count": null,
   "metadata": {},
   "outputs": [],
   "source": [
    "print(results)"
   ]
  },
  {
   "cell_type": "code",
   "execution_count": null,
   "metadata": {},
   "outputs": [],
   "source": []
  },
  {
   "cell_type": "code",
   "execution_count": null,
   "metadata": {},
   "outputs": [],
   "source": []
  }
 ],
 "metadata": {
  "kernelspec": {
   "display_name": "Python 3",
   "language": "python",
   "name": "python3"
  },
  "language_info": {
   "codemirror_mode": {
    "name": "ipython",
    "version": 3
   },
   "file_extension": ".py",
   "mimetype": "text/x-python",
   "name": "python",
   "nbconvert_exporter": "python",
   "pygments_lexer": "ipython3",
   "version": "3.8.5"
  }
 },
 "nbformat": 4,
 "nbformat_minor": 5
}
