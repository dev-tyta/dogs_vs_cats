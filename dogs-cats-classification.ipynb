{
 "cells": [
  {
   "cell_type": "code",
   "execution_count": null,
   "metadata": {
    "pycharm": {
     "is_executing": true
    }
   },
   "outputs": [],
   "source": [
    "import tensorflow as tf\n",
    "import os\n",
    "from pathlib import Path\n",
    "# from tqdm import tqdm"
   ]
  },
  {
   "cell_type": "code",
   "execution_count": null,
   "metadata": {
    "pycharm": {
     "is_executing": true
    }
   },
   "outputs": [],
   "source": [
    "import pandas as pd\n",
    "# import numpy as np"
   ]
  },
  {
   "cell_type": "code",
   "execution_count": null,
   "metadata": {
    "pycharm": {
     "is_executing": true
    }
   },
   "outputs": [],
   "source": [
    "from tensorflow.keras.preprocessing.image import ImageDataGenerator\n",
    "from tensorflow.keras.optimizers import RMSprop\n",
    "from tensorflow.keras import Sequential, layers"
   ]
  },
  {
   "cell_type": "code",
   "execution_count": null,
   "metadata": {
    "pycharm": {
     "is_executing": true
    }
   },
   "outputs": [],
   "source": [
    "train_dir = Path(\"C:/Users/Testys/Documents/ML_Space New_Chapter/Computer Vision/Datasets/dogs-vs-cats/train\")\n",
    "test_dir = Path(\"C:/Users/Testys/Documents/ML_Space New_Chapter/Computer Vision/Datasets/dogs-vs-cats/test1\")"
   ]
  },
  {
   "cell_type": "code",
   "execution_count": null,
   "metadata": {
    "pycharm": {
     "is_executing": true
    }
   },
   "outputs": [],
   "source": [
    "train_df = pd.DataFrame({'image_name':os.listdir(train_dir)})\n",
    "train_df['label'] =train_df['image_name'].apply(lambda x: x.split('.')[0])\n",
    "train_df"
   ]
  },
  {
   "cell_type": "code",
   "execution_count": null,
   "metadata": {
    "pycharm": {
     "is_executing": true
    }
   },
   "outputs": [],
   "source": [
    "test_df = pd.DataFrame({'image_name':os.listdir(test_dir)})\n",
    "test_df['label'] =test_df['image_name'].apply(lambda x: x.split('.')[0])\n",
    "test_df"
   ]
  },
  {
   "cell_type": "code",
   "execution_count": null,
   "metadata": {
    "pycharm": {
     "is_executing": true
    }
   },
   "outputs": [],
   "source": [
    "# dog_path_train = os.path.join(train_dir, 'dog')\n",
    "# os.mkdir(dog_path_train)\n",
    "# dog_df_train = train_df[train_df.label=='dog']\n"
   ]
  },
  {
   "cell_type": "code",
   "execution_count": null,
   "metadata": {
    "pycharm": {
     "is_executing": true
    }
   },
   "outputs": [],
   "source": [
    "# for n in tqdm(dog_df_train.image_name):\n",
    "#     os.rename((os.path.join(train_dir, n)), (os.path.join(dog_path_train, n)))"
   ]
  },
  {
   "cell_type": "code",
   "execution_count": null,
   "metadata": {
    "pycharm": {
     "is_executing": true
    }
   },
   "outputs": [],
   "source": [
    "# cat_path_train = os.path.join(train_dir, 'cat')\n",
    "# os.mkdir(cat_path_train)\n",
    "# cat_df_train = train_df[train_df.label=='cat']\n"
   ]
  },
  {
   "cell_type": "code",
   "execution_count": null,
   "metadata": {
    "pycharm": {
     "is_executing": true
    }
   },
   "outputs": [],
   "source": [
    "# for n in tqdm(cat_df_train.image_name):\n",
    "#     os.rename((os.path.join(train_dir, n)), (os.path.join(cat_path_train, n)))"
   ]
  },
  {
   "cell_type": "code",
   "execution_count": null,
   "metadata": {
    "pycharm": {
     "is_executing": true
    }
   },
   "outputs": [],
   "source": [
    "train_datagen = ImageDataGenerator(rescale= 1./255, validation_split= 0.3)"
   ]
  },
  {
   "cell_type": "code",
   "execution_count": null,
   "metadata": {
    "pycharm": {
     "is_executing": true
    }
   },
   "outputs": [],
   "source": [
    "train_generator = train_datagen.flow_from_directory(\n",
    "    train_dir,\n",
    "    target_size= (150, 150),\n",
    "    class_mode='binary',\n",
    "    subset='training'\n",
    ")"
   ]
  },
  {
   "cell_type": "code",
   "execution_count": null,
   "metadata": {
    "pycharm": {
     "is_executing": true
    }
   },
   "outputs": [],
   "source": [
    "validation_generator = train_datagen.flow_from_directory(\n",
    "    train_dir,\n",
    "    target_size= (150, 150),\n",
    "    class_mode= 'binary',\n",
    "    subset= 'validation'\n",
    ")"
   ]
  },
  {
   "cell_type": "code",
   "execution_count": null,
   "metadata": {
    "pycharm": {
     "is_executing": true
    }
   },
   "outputs": [],
   "source": [
    "model = Sequential([\n",
    "    layers.Conv2D(16, (3,3), activation= 'relu', input_shape =(150, 150, 3)),\n",
    "    layers.MaxPooling2D(2,2),\n",
    "    layers.Conv2D(32, (3,3), activation= 'relu'),\n",
    "    layers.MaxPooling2D(2,2),\n",
    "    layers.Conv2D(64, (3,3), activation= 'relu'),\n",
    "    layers.MaxPooling2D(2,2),\n",
    "    layers.Conv2D(64, (3,3), activation= 'relu'),\n",
    "    layers.MaxPooling2D(2,2),\n",
    "    layers.Conv2D(64, (3,3), activation= 'relu'),\n",
    "    layers.MaxPooling2D(2,2),\n",
    "    layers.Flatten(),\n",
    "    layers.Dense(512, activation= 'relu'),\n",
    "    layers.Dense(1,activation= 'sigmoid'),\n",
    "])"
   ]
  },
  {
   "cell_type": "code",
   "execution_count": null,
   "metadata": {
    "pycharm": {
     "is_executing": true
    }
   },
   "outputs": [],
   "source": [
    "model.summary()"
   ]
  },
  {
   "cell_type": "code",
   "execution_count": null,
   "metadata": {
    "pycharm": {
     "is_executing": true
    }
   },
   "outputs": [],
   "source": [
    "model.compile(loss= 'binary_crossentropy',\n",
    "             optimizer = RMSprop(learning_rate= 0.001),\n",
    "              metrics= ['accuracy']\n",
    "             )"
   ]
  },
  {
   "cell_type": "code",
   "metadata": {
    "pycharm": {
     "name": "#%%\n",
     "is_executing": true
    }
   },
   "source": [
    "class mycallback(tf.keras.callbacks.Callback):\n",
    "    def on_epoch_end(self,epoch,logs={}):\n",
    "        if logs.get('val_accuracy')>=0.90:\n",
    "            self.model.stop_training = True\n",
    "            \n",
    "callback = mycallback()"
   ],
   "execution_count": null,
   "outputs": []
  },
  {
   "cell_type": "code",
   "execution_count": null,
   "metadata": {
    "pycharm": {
     "is_executing": true
    }
   },
   "outputs": [
    {
     "name": "stdout",
     "output_type": "stream",
     "text": [
      "350/350 [==============================] - 821s 2s/step - loss: 0.4793 - accuracy: 0.7706 - val_loss: 0.4391 - val_accuracy: 0.7946\n",
      "Epoch 5/30\n",
      "350/350 [==============================] - 829s 2s/step - loss: 0.4285 - accuracy: 0.8072 - val_loss: 0.4268 - val_accuracy: 0.8021\n",
      "Epoch 6/30\n",
      "350/350 [==============================] - 811s 2s/step - loss: 0.3829 - accuracy: 0.8292 - val_loss: 0.4107 - val_accuracy: 0.8135\n",
      "Epoch 7/30\n",
      "350/350 [==============================] - 776s 2s/step - loss: 0.3447 - accuracy: 0.8515 - val_loss: 0.3433 - val_accuracy: 0.8535\n",
      "Epoch 8/30\n",
      "350/350 [==============================] - 734s 2s/step - loss: 0.3112 - accuracy: 0.8631 - val_loss: 0.3390 - val_accuracy: 0.8581\n",
      "Epoch 9/30\n",
      "350/350 [==============================] - 926s 3s/step - loss: 0.2886 - accuracy: 0.8781 - val_loss: 0.3366 - val_accuracy: 0.8456\n",
      "Epoch 10/30\n",
      "350/350 [==============================] - 816s 2s/step - loss: 0.2698 - accuracy: 0.8850 - val_loss: 0.3131 - val_accuracy: 0.8621\n",
      "Epoch 11/30\n",
      "350/350 [==============================] - 788s 2s/step - loss: 0.2474 - accuracy: 0.8985 - val_loss: 0.2999 - val_accuracy: 0.8704\n",
      "Epoch 12/30\n",
      " 17/350 [>.............................] - ETA: 27:06 - loss: 0.1846 - accuracy: 0.9228"
     ]
    }
   ],
   "source": [
    "history = model.fit(\n",
    "    train_generator,\n",
    "    steps_per_epoch = train_generator.samples//50,#batch_size, \n",
    "    epochs = 30,\n",
    "    verbose=1,\n",
    "    validation_data = validation_generator,\n",
    "    validation_steps = validation_generator.samples//50,#batch_size,\n",
    "    callbacks=[callback]\n",
    ")"
   ]
  },
  {
   "cell_type": "code",
   "execution_count": null,
   "metadata": {
    "pycharm": {
     "is_executing": true
    }
   },
   "outputs": [],
   "source": [
    "import matplotlib.pyplot as plt"
   ]
  },
  {
   "cell_type": "code",
   "execution_count": null,
   "metadata": {
    "pycharm": {
     "is_executing": true
    }
   },
   "outputs": [],
   "source": [
    "acc = history.history['accuracy']\n",
    "val_acc = history.history['val_accuracy']\n",
    "\n",
    "loss = history.history['loss']\n",
    "val_loss = history.history['val_loss']\n",
    "\n",
    "plt.figure(figsize=(8, 8))\n",
    "plt.subplot(2, 1, 1)\n",
    "plt.plot(acc, label='Training Accuracy')\n",
    "plt.plot(val_acc, label='Validation Accuracy')\n",
    "plt.legend(loc='lower right')\n",
    "plt.ylabel('Accuracy')\n",
    "plt.ylim([min(plt.ylim()),1])\n",
    "plt.title('Training and Validation Accuracy')\n",
    "\n",
    "plt.subplot(2, 1, 2)\n",
    "plt.plot(loss, label='Training Loss')\n",
    "plt.plot(val_loss, label='Validation Loss')\n",
    "plt.legend(loc='upper right')\n",
    "plt.ylabel('Cross Entropy')\n",
    "plt.ylim([0,1.0])\n",
    "plt.title('Training and Validation Loss')\n",
    "plt.xlabel('epoch')\n",
    "plt.show()"
   ]
  },
  {
   "cell_type": "code",
   "execution_count": null,
   "metadata": {
    "tags": [],
    "pycharm": {
     "is_executing": true
    }
   },
   "outputs": [],
   "source": [
    "import numpy as np\n",
    "from tensorflow.keras.preprocessing import image\n",
    "import os\n",
    "\n",
    "#new = Path.('\\dogs-vs-cats\\test1')\n",
    "\n",
    "images = os.listdir(r'C:/Users/Testys/Documents/ML_Space New_Chapter/Computer Vision/Datasets/dogs-vs-cats/test1')\n",
    "print(images)\n",
    "\n"
   ]
  },
  {
   "cell_type": "code",
   "execution_count": null,
   "metadata": {
    "tags": [],
    "pycharm": {
     "is_executing": true
    }
   },
   "outputs": [],
   "source": [
    "for i in images:\n",
    "    print()\n",
    "    # predicting images\n",
    "    path = r'C:/Users/Testys/Documents/ML_Space New_Chapter/Computer Vision/Datasets/dogs-vs-cats/test1/' + i\n",
    "    # print(path)\n",
    "    img = image.load_img(path, target_size=(150, 150))\n",
    "    x = image.img_to_array(img)\n",
    "    x /= 255\n",
    "    x = np.expand_dims(x, axis=0)\n",
    "\n",
    "    images = np.vstack([x])\n",
    "    classes = model.predict(images, batch_size=10)\n",
    "    print(classes[0])\n",
    "    results = []\n",
    "    if classes[0]>0.5:\n",
    "        results.append('Dog')\n",
    "    if classes[0]< 0.5:\n",
    "        results.append('Cat')"
   ]
  },
  {
   "cell_type": "code",
   "execution_count": null,
   "metadata": {
    "pycharm": {
     "is_executing": true
    }
   },
   "outputs": [],
   "source": [
    "print(results)"
   ]
  },
  {
   "cell_type": "code",
   "execution_count": null,
   "metadata": {
    "pycharm": {
     "is_executing": true
    }
   },
   "outputs": [],
   "source": [
    "img = os.listdir(r'C:\\Users\\Hp 15\\Documents\\My_files\\Image Classification\\tmp')\n",
    "print(img)"
   ]
  },
  {
   "cell_type": "code",
   "execution_count": null,
   "metadata": {
    "pycharm": {
     "is_executing": true
    }
   },
   "outputs": [],
   "source": [
    "for i in images:\n",
    "    print()\n",
    "    # predicting images\n",
    "    path = r'C:\\Users\\Hp 15\\Documents\\My_files\\Image Classification\\tmp/' + i\n",
    "    img = image.load_img(path, target_size=(150, 150))\n",
    "    x = image.img_to_array(img)\n",
    "    x /= 255\n",
    "    x = np.expand_dims(x, axis=0)\n",
    "\n",
    "    images = np.vstack([x])\n",
    "    classes = model.predict(images, batch_size=10)\n",
    "    print(classes[0])\n",
    "    results = []\n",
    "    if classes[0]>0.5:\n",
    "        results.append('Dog')\n",
    "    else:\n",
    "        results.append('Cat')"
   ]
  },
  {
   "cell_type": "code",
   "execution_count": null,
   "metadata": {
    "pycharm": {
     "is_executing": true,
     "name": "#%%\n"
    }
   },
   "outputs": [],
   "source": [
    "print(results)"
   ]
  }
 ],
 "metadata": {
  "kernelspec": {
   "display_name": "Python 3",
   "language": "python",
   "name": "python3"
  },
  "language_info": {
   "codemirror_mode": {
    "name": "ipython",
    "version": 3
   },
   "file_extension": ".py",
   "mimetype": "text/x-python",
   "name": "python",
   "nbconvert_exporter": "python",
   "pygments_lexer": "ipython3",
   "version": "3.8.5"
  }
 },
 "nbformat": 4,
 "nbformat_minor": 5
}