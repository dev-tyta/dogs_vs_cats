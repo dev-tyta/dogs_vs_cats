{
 "cells": [
  {
   "cell_type": "markdown",
   "metadata": {
    "id": "view-in-github",
    "colab_type": "text"
   },
   "source": [
    "<a href=\"https://colab.research.google.com/github/dev-tyta/dogs_vs_cats/blob/main/dogs_cats_classification.ipynb\" target=\"_parent\"><img src=\"https://colab.research.google.com/assets/colab-badge.svg\" alt=\"Open In Colab\"/></a>"
   ]
  },
  {
   "cell_type": "code",
   "source": [
    "! pip install kaggle\n",
    "! mkdir ~/.kaggle\n",
    "! cp kaggle.json ~/.kaggle/\n",
    "! chmod 600 ~/.kaggle/kaggle.json\n",
    "! pip install google"
   ],
   "metadata": {
    "id": "aELXL5MwySvN",
    "colab": {
     "base_uri": "https://localhost:8080/"
    },
    "outputId": "54d3e1f8-5fd5-4110-9f0c-830155711dc9"
   },
   "id": "aELXL5MwySvN",
   "execution_count": 4,
   "outputs": [
    {
     "name": "stdout",
     "output_type": "stream",
     "text": [
      "Collecting kaggle\n",
      "  Downloading kaggle-1.5.12.tar.gz (58 kB)\n",
      "     -------------------------------------- 59.0/59.0 kB 312.3 kB/s eta 0:00:00\n",
      "  Preparing metadata (setup.py): started\n",
      "  Preparing metadata (setup.py): finished with status 'done'\n",
      "Requirement already satisfied: six>=1.10 in c:\\users\\testys\\anaconda3\\lib\\site-packages (from kaggle) (1.15.0)\n",
      "Requirement already satisfied: certifi in c:\\users\\testys\\anaconda3\\lib\\site-packages (from kaggle) (2020.6.20)\n",
      "Requirement already satisfied: python-dateutil in c:\\users\\testys\\anaconda3\\lib\\site-packages (from kaggle) (2.8.1)\n",
      "Requirement already satisfied: requests in c:\\users\\testys\\anaconda3\\lib\\site-packages (from kaggle) (2.24.0)\n",
      "Requirement already satisfied: tqdm in c:\\users\\testys\\anaconda3\\lib\\site-packages (from kaggle) (4.50.2)\n",
      "Collecting python-slugify\n",
      "  Downloading python_slugify-6.1.2-py2.py3-none-any.whl (9.4 kB)\n",
      "Requirement already satisfied: urllib3 in c:\\users\\testys\\anaconda3\\lib\\site-packages (from kaggle) (1.25.11)\n",
      "Collecting text-unidecode>=1.3\n",
      "  Downloading text_unidecode-1.3-py2.py3-none-any.whl (78 kB)\n",
      "     -------------------------------------- 78.2/78.2 kB 127.9 kB/s eta 0:00:00\n",
      "Requirement already satisfied: chardet<4,>=3.0.2 in c:\\users\\testys\\anaconda3\\lib\\site-packages (from requests->kaggle) (3.0.4)\n",
      "Requirement already satisfied: idna<3,>=2.5 in c:\\users\\testys\\anaconda3\\lib\\site-packages (from requests->kaggle) (2.10)\n",
      "Building wheels for collected packages: kaggle\n",
      "  Building wheel for kaggle (setup.py): started\n",
      "  Building wheel for kaggle (setup.py): still running...\n",
      "  Building wheel for kaggle (setup.py): finished with status 'done'\n",
      "  Created wheel for kaggle: filename=kaggle-1.5.12-py3-none-any.whl size=73057 sha256=ce111f3abdccbd58a6e3d516ad9e78605ef3720d8774fc4918cc5091fccc3d9c\n",
      "  Stored in directory: c:\\users\\testys\\appdata\\local\\pip\\cache\\wheels\\29\\da\\11\\144cc25aebdaeb4931b231e25fd34b394e6a5725cbb2f50106\n",
      "Successfully built kaggleCollecting kaggle\n",
      "  Downloading kaggle-1.5.12.tar.gz (58 kB)\n",
      "     -------------------------------------- 59.0/59.0 kB 103.9 kB/s eta 0:00:00\n",
      "  Preparing metadata (setup.py): started\n",
      "  Preparing metadata (setup.py): finished with status 'done'\n",
      "Requirement already satisfied: six>=1.10 in c:\\users\\testys\\anaconda3\\lib\\site-packages (from kaggle) (1.15.0)\n",
      "Requirement already satisfied: certifi in c:\\users\\testys\\anaconda3\\lib\\site-packages (from kaggle) (2020.6.20)\n",
      "\n",
      "Requirement already satisfied: python-dateutil in c:\\users\\testys\\anaconda3\\lib\\site-packages (from kaggle) (2.8.1)\n",
      "Requirement already satisfied: requests in c:\\users\\testys\\anaconda3\\lib\\site-packages (from kaggle) (2.24.0)\n",
      "Requirement already satisfied: tqdm in c:\\users\\testys\\anaconda3\\lib\\site-packages (from kaggle) (4.50.2)\n",
      "Collecting python-slugify\n",
      "  Downloading python_slugify-6.1.2-py2.py3-none-any.whl (9.4 kB)\n",
      "Requirement already satisfied: urllib3 in c:\\users\\testys\\anaconda3\\lib\\site-packages (from kaggle) (1.25.11)\n",
      "Collecting text-unidecode>=1.3\n",
      "  Downloading text_unidecode-1.3-py2.py3-none-any.whl (78 kB)\n",
      "     -------------------------------------- 78.2/78.2 kB 124.2 kB/s eta 0:00:00\n",
      "Requirement already satisfied: chardet<4,>=3.0.2 in c:\\users\\testys\\anaconda3\\lib\\site-packages (from requests->kaggle) (3.0.4)\n",
      "Requirement already satisfied: idna<3,>=2.5 in c:\\users\\testys\\anaconda3\\lib\\site-packages (from requests->kaggle) (2.10)\n",
      "Building wheels for collected packages: kaggle\n",
      "  Building wheel for kaggle (setup.py): started\n",
      "  Building wheel for kaggle (setup.py): still running...\n",
      "  Building wheel for kaggle (setup.py): finished with status 'done'\n",
      "  Created wheel for kaggle: filename=kaggle-1.5.12-py3-none-any.whl size=73057 sha256=ce111f3abdccbd58a6e3d516ad9e78605ef3720d8774fc4918cc5091fccc3d9c\n",
      "  Stored in directory: c:\\users\\testys\\appdata\\local\\pip\\cache\\wheels\\29\\da\\11\\144cc25aebdaeb4931b231e25fd34b394e6a5725cbb2f50106\n",
      "Successfully built kaggle\n",
      "Installing collected packages: text-unidecode, python-slugify, kaggle\n",
      "Successfully installed kaggle-1.5.12 python-slugify-6.1.2 text-unidecode-1.3\n",
      "\n",
      "[notice] A new release of pip available: 22.1.2 -> 22.2.2Installing collected packages: text-unidecode, python-slugify, kaggle\n",
      "Successfully installed kaggle-1.5.12 python-slugify-6.1.2 text-unidecode-1.3\n",
      "\n",
      "[notice] A new release of pip available: 22.1.2 -> 22.2.2\n",
      "[notice] To update, run: python.exe -m pip install --upgrade pip\n",
      "\n",
      "[notice] To update, run: python.exe -m pip install --upgrade pip\n"
     ]
    },
    {
     "name": "stderr",
     "output_type": "stream",
     "text": [
      "The syntax of the command is incorrect.\n",
      "'cp' is not recognized as an internal or external command,\n",
      "operable program or batch file.\n",
      "'chmod' is not recognized as an internal or external command,\n",
      "operable program or batch file.\n"
     ]
    },
    {
     "name": "stdout",
     "output_type": "stream",
     "text": [
      "Requirement already satisfied: kaggle in c:\\users\\testys\\anaconda3\\lib\\site-packages (1.5.12)\n",
      "Requirement already satisfied: urllib3 in c:\\users\\testys\\anaconda3\\lib\\site-packages (from kaggle) (1.25.11)\n",
      "Requirement already satisfied: six>=1.10 in c:\\users\\testys\\anaconda3\\lib\\site-packages (from kaggle) (1.15.0)\n",
      "Requirement already satisfied: python-dateutil in c:\\users\\testys\\anaconda3\\lib\\site-packages (from kaggle) (2.8.1)\n",
      "Requirement already satisfied: tqdm in c:\\users\\testys\\anaconda3\\lib\\site-packages (from kaggle) (4.50.2)\n",
      "Requirement already satisfied: python-slugify in c:\\users\\testys\\anaconda3\\lib\\site-packages (from kaggle) (6.1.2)\n",
      "Requirement already satisfied: requests in c:\\users\\testys\\anaconda3\\lib\\site-packages (from kaggle) (2.24.0)\n",
      "Requirement already satisfied: certifi in c:\\users\\testys\\anaconda3\\lib\\site-packages (from kaggle) (2020.6.20)\n",
      "Requirement already satisfied: text-unidecode>=1.3 in c:\\users\\testys\\anaconda3\\lib\\site-packages (from python-slugify->kaggle) (1.3)\n",
      "Requirement already satisfied: chardet<4,>=3.0.2 in c:\\users\\testys\\anaconda3\\lib\\site-packages (from requests->kaggle) (3.0.4)\n",
      "Requirement already satisfied: idna<3,>=2.5 in c:\\users\\testys\\anaconda3\\lib\\site-packages (from requests->kaggle) (2.10)\n",
      "\n",
      "[notice] A new release of pip available: 22.1.2 -> 22.2.2\n",
      "[notice] To update, run: python.exe -m pip install --upgrade pip\n"
     ]
    },
    {
     "name": "stderr",
     "output_type": "stream",
     "text": [
      "The syntax of the command is incorrect.\n",
      "'cp' is not recognized as an internal or external command,\n",
      "operable program or batch file.\n",
      "'chmod' is not recognized as an internal or external command,\n",
      "operable program or batch file.\n"
     ]
    },
    {
     "name": "stdout",
     "output_type": "stream",
     "text": [
      "Collecting google\n",
      "  Downloading google-3.0.0-py2.py3-none-any.whl (45 kB)\n",
      "     --------------------------------------- 45.3/45.3 kB 79.9 kB/s eta 0:00:00\n",
      "Requirement already satisfied: beautifulsoup4 in c:\\users\\testys\\anaconda3\\lib\\site-packages (from google) (4.9.3)\n",
      "Requirement already satisfied: soupsieve>1.2 in c:\\users\\testys\\anaconda3\\lib\\site-packages (from beautifulsoup4->google) (2.0.1)\n",
      "Installing collected packages: google\n",
      "Successfully installed google-3.0.0\n",
      "\n",
      "[notice] A new release of pip available: 22.1.2 -> 22.2.2\n",
      "[notice] To update, run: python.exe -m pip install --upgrade pip\n"
     ]
    }
   ]
  },
  {
   "cell_type": "code",
   "execution_count": null,
   "metadata": {
    "id": "f3cGtyGBxr8l",
    "colab": {
     "base_uri": "https://localhost:8080/"
    },
    "outputId": "87877bfa-9f69-4bbe-88dd-2ea8ab45f38d"
   },
   "outputs": [
    {
     "ename": "ModuleNotFoundError",
     "evalue": "No module named 'google.colab'",
     "output_type": "error",
     "traceback": [
      "\u001B[1;31m---------------------------------------------------------------------------\u001B[0m",
      "\u001B[1;31mModuleNotFoundError\u001B[0m                       Traceback (most recent call last)",
      "\u001B[1;32m<ipython-input-2-d5df0069828e>\u001B[0m in \u001B[0;36m<module>\u001B[1;34m\u001B[0m\n\u001B[1;32m----> 1\u001B[1;33m \u001B[1;32mfrom\u001B[0m \u001B[0mgoogle\u001B[0m\u001B[1;33m.\u001B[0m\u001B[0mcolab\u001B[0m \u001B[1;32mimport\u001B[0m \u001B[0mdrive\u001B[0m\u001B[1;33m\u001B[0m\u001B[1;33m\u001B[0m\u001B[0m\n\u001B[0m\u001B[0;32m      2\u001B[0m \u001B[0mdrive\u001B[0m\u001B[1;33m.\u001B[0m\u001B[0mmount\u001B[0m\u001B[1;33m(\u001B[0m\u001B[1;34m'/content/drive'\u001B[0m\u001B[1;33m)\u001B[0m\u001B[1;33m\u001B[0m\u001B[1;33m\u001B[0m\u001B[0m\n",
      "\u001B[1;31mModuleNotFoundError\u001B[0m: No module named 'google.colab'"
     ]
    }
   ],
   "source": [
    "from google.colab import drive\n",
    "drive.mount('/content/drive')"
   ],
   "id": "f3cGtyGBxr8l"
  },
  {
   "cell_type": "code",
   "source": [
    "%cd /content/drive/MyDrive/dogs_cats"
   ],
   "metadata": {
    "id": "3yDhWsWcz_Mc",
    "colab": {
     "base_uri": "https://localhost:8080/"
    },
    "outputId": "6143a89c-483a-48f2-9f34-cc2e9edb2da8"
   },
   "id": "3yDhWsWcz_Mc",
   "execution_count": null,
   "outputs": []
  },
  {
   "cell_type": "code",
   "source": [
    "import os\n",
    "os.environ['KAGGLE_CONFIG_DIR'] = \"/content/drive/MyDrive/dogs_cats\""
   ],
   "metadata": {
    "id": "wumiu210ywSl"
   },
   "id": "wumiu210ywSl",
   "execution_count": null,
   "outputs": []
  },
  {
   "cell_type": "code",
   "source": [
    "!kaggle competitions download -c dogs-vs-cats"
   ],
   "metadata": {
    "id": "nlLQV0O_yv51",
    "colab": {
     "base_uri": "https://localhost:8080/"
    },
    "outputId": "c85ac444-93cc-4c8b-c09d-c250526e0f07"
   },
   "id": "nlLQV0O_yv51",
   "execution_count": null,
   "outputs": []
  },
  {
   "cell_type": "code",
   "source": [
    "!unzip dogs-vs-cats.zip"
   ],
   "metadata": {
    "id": "PlNJPpRD2416",
    "colab": {
     "base_uri": "https://localhost:8080/"
    },
    "outputId": "f0797126-b47b-4fde-9336-e2a5c8b98498"
   },
   "id": "PlNJPpRD2416",
   "execution_count": null,
   "outputs": []
  },
  {
   "cell_type": "code",
   "source": [
    "!unzip train.zip\n",
    "!unzip test1.zip"
   ],
   "metadata": {
    "id": "smGplLbx3fGo",
    "colab": {
     "base_uri": "https://localhost:8080/"
    },
    "outputId": "2f76e3c4-564a-40c6-807a-2b5e97b300f6"
   },
   "id": "smGplLbx3fGo",
   "execution_count": null,
   "outputs": []
  },
  {
   "cell_type": "code",
   "execution_count": null,
   "metadata": {
    "id": "eZw-h2GExr8L"
   },
   "outputs": [],
   "source": [
    "import tensorflow as tf\n",
    "import os\n",
    "from pathlib import Path\n",
    "from tqdm import tqdm"
   ],
   "id": "eZw-h2GExr8L"
  },
  {
   "cell_type": "code",
   "execution_count": null,
   "metadata": {
    "id": "pdtz0zEmxr8e"
   },
   "outputs": [],
   "source": [
    "import pandas as pd\n",
    "import numpy as np"
   ],
   "id": "pdtz0zEmxr8e"
  },
  {
   "cell_type": "code",
   "execution_count": null,
   "metadata": {
    "id": "7I97WbX-xr8g"
   },
   "outputs": [],
   "source": [
    "from tensorflow.keras.preprocessing.image import ImageDataGenerator\n",
    "from tensorflow.keras.optimizers import RMSprop\n",
    "from tensorflow.keras import Sequential, layers"
   ],
   "id": "7I97WbX-xr8g"
  },
  {
   "cell_type": "code",
   "source": [
    "train_dir= \"train\"\n",
    "test_dir= \"test1\""
   ],
   "metadata": {
    "id": "MZyqLOua5DU5"
   },
   "id": "MZyqLOua5DU5",
   "execution_count": null,
   "outputs": []
  },
  {
   "cell_type": "code",
   "execution_count": null,
   "metadata": {
    "id": "xJ6wfMeuxr8p",
    "colab": {
     "base_uri": "https://localhost:8080/",
     "height": 424
    },
    "outputId": "e6176d1c-0f1a-49c8-d2a7-4c9c46e65a58"
   },
   "outputs": [],
   "source": [
    "train_df = pd.DataFrame({'image_name':os.listdir(train_dir)})\n",
    "train_df['label'] =train_df['image_name'].apply(lambda x: x.split('.')[0])\n",
    "train_df"
   ],
   "id": "xJ6wfMeuxr8p"
  },
  {
   "cell_type": "code",
   "execution_count": null,
   "metadata": {
    "id": "7y3vAO07xr8s",
    "colab": {
     "base_uri": "https://localhost:8080/",
     "height": 424
    },
    "outputId": "44d8ce72-1267-4bc2-e6ea-d03174e229ec"
   },
   "outputs": [],
   "source": [
    "test_df = pd.DataFrame({'image_name':os.listdir(test_dir)})\n",
    "test_df['label'] =test_df['image_name'].apply(lambda x: x.split('.')[0])\n",
    "test_df"
   ],
   "id": "7y3vAO07xr8s"
  },
  {
   "cell_type": "code",
   "execution_count": null,
   "metadata": {
    "id": "xWzI_cYlxr8u"
   },
   "outputs": [],
   "source": [
    "dog_path_train = os.path.join(train_dir, 'dog')\n",
    "os.mkdir(dog_path_train)\n",
    "dog_df_train = train_df[train_df.label=='dog']\n"
   ],
   "id": "xWzI_cYlxr8u"
  },
  {
   "cell_type": "code",
   "execution_count": null,
   "metadata": {
    "id": "BTQ0DVOlxr8x",
    "colab": {
     "base_uri": "https://localhost:8080/"
    },
    "outputId": "be7ca6ba-d08a-46e5-8abe-fba9f2d1c6f4"
   },
   "outputs": [],
   "source": [
    "for n in tqdm(dog_df_train.image_name):\n",
    "    os.rename((os.path.join(train_dir, n)), (os.path.join(dog_path_train, n)))"
   ],
   "id": "BTQ0DVOlxr8x"
  },
  {
   "cell_type": "code",
   "execution_count": null,
   "metadata": {
    "id": "BLKF15E9xr81"
   },
   "outputs": [],
   "source": [
    "cat_path_train = os.path.join(train_dir, 'cat')\n",
    "os.mkdir(cat_path_train)\n",
    "cat_df_train = train_df[train_df.label=='cat']\n"
   ],
   "id": "BLKF15E9xr81"
  },
  {
   "cell_type": "code",
   "execution_count": null,
   "metadata": {
    "id": "3fLG7y51xr84",
    "colab": {
     "base_uri": "https://localhost:8080/"
    },
    "outputId": "04835f11-d261-4cd7-dd08-c84644c95523"
   },
   "outputs": [],
   "source": [
    "for n in tqdm(cat_df_train.image_name):\n",
    "    os.rename((os.path.join(train_dir, n)), (os.path.join(cat_path_train, n)))"
   ],
   "id": "3fLG7y51xr84"
  },
  {
   "cell_type": "code",
   "execution_count": null,
   "metadata": {
    "id": "KujrvfjUxr86"
   },
   "outputs": [],
   "source": [
    "train_datagen = ImageDataGenerator(rescale= 1./255, validation_split= 0.3)"
   ],
   "id": "KujrvfjUxr86"
  },
  {
   "cell_type": "code",
   "execution_count": null,
   "metadata": {
    "id": "xpI_qGw6xr87",
    "colab": {
     "base_uri": "https://localhost:8080/"
    },
    "outputId": "492a45cd-0a53-4496-9c48-a32b667a0868"
   },
   "outputs": [],
   "source": [
    "train_generator = train_datagen.flow_from_directory(\n",
    "    train_dir,\n",
    "    target_size= (150, 150),\n",
    "    class_mode='binary',\n",
    "    subset='training'\n",
    ")"
   ],
   "id": "xpI_qGw6xr87"
  },
  {
   "cell_type": "code",
   "execution_count": null,
   "metadata": {
    "id": "lo1e68iTxr88",
    "colab": {
     "base_uri": "https://localhost:8080/"
    },
    "outputId": "cb96e43a-b99b-426e-8746-3040f6b1716f"
   },
   "outputs": [],
   "source": [
    "validation_generator = train_datagen.flow_from_directory(\n",
    "    train_dir,\n",
    "    target_size= (150, 150),\n",
    "    class_mode= 'binary',\n",
    "    subset= 'validation'\n",
    ")"
   ],
   "id": "lo1e68iTxr88"
  },
  {
   "cell_type": "code",
   "execution_count": null,
   "metadata": {
    "id": "c5xTYJRHxr8-"
   },
   "outputs": [],
   "source": [
    "model = Sequential([\n",
    "    layers.Conv2D(16, (3,3), activation= 'relu', input_shape =(150, 150, 3)),\n",
    "    layers.MaxPooling2D(2,2),\n",
    "    layers.Conv2D(32, (3,3), activation= 'relu'),\n",
    "    layers.MaxPooling2D(2,2),\n",
    "    layers.Conv2D(64, (3,3), activation= 'relu'),\n",
    "    layers.MaxPooling2D(2,2),\n",
    "    layers.Conv2D(64, (3,3), activation= 'relu'),\n",
    "    layers.MaxPooling2D(2,2),\n",
    "    layers.Conv2D(64, (3,3), activation= 'relu'),\n",
    "    layers.MaxPooling2D(2,2),\n",
    "    layers.Flatten(),\n",
    "    layers.Dense(512, activation= 'relu'),\n",
    "    layers.Dense(1,activation= 'sigmoid'),\n",
    "])"
   ],
   "id": "c5xTYJRHxr8-"
  },
  {
   "cell_type": "code",
   "execution_count": null,
   "metadata": {
    "id": "4dZE5phXxr8_",
    "colab": {
     "base_uri": "https://localhost:8080/"
    },
    "outputId": "adcac024-0eae-45f0-cf1c-e8e6637aa8bd"
   },
   "outputs": [],
   "source": [
    "model.summary()"
   ],
   "id": "4dZE5phXxr8_"
  },
  {
   "cell_type": "code",
   "execution_count": null,
   "metadata": {
    "id": "QHFu_RnDxr9A"
   },
   "outputs": [],
   "source": [
    "model.compile(loss= 'binary_crossentropy',\n",
    "             optimizer = RMSprop(learning_rate= 0.001),\n",
    "              metrics= ['accuracy']\n",
    "             )"
   ],
   "id": "QHFu_RnDxr9A"
  },
  {
   "cell_type": "code",
   "metadata": {
    "pycharm": {
     "name": "#%%\n"
    },
    "id": "8A8fyZJQxr9C"
   },
   "source": [
    "class mycallback(tf.keras.callbacks.Callback):\n",
    "    def on_epoch_end(self,epoch,logs={}):\n",
    "        if logs.get('val_accuracy')>=0.90:\n",
    "            self.model.stop_training = True\n",
    "            \n",
    "callback = mycallback()"
   ],
   "execution_count": null,
   "outputs": [],
   "id": "8A8fyZJQxr9C"
  },
  {
   "cell_type": "code",
   "execution_count": null,
   "metadata": {
    "id": "S05K4-NCxr9E",
    "colab": {
     "base_uri": "https://localhost:8080/"
    },
    "outputId": "ed3a4967-e2f9-492f-d83c-857fa646957e"
   },
   "outputs": [],
   "source": [
    "history = model.fit(\n",
    "    train_generator,\n",
    "    steps_per_epoch = train_generator.samples//50,#batch_size, \n",
    "    epochs = 30,\n",
    "    verbose=1,\n",
    "    validation_data = validation_generator,\n",
    "    validation_steps = validation_generator.samples//50,#batch_size,\n",
    "    callbacks=[callback]\n",
    ")"
   ],
   "id": "S05K4-NCxr9E"
  },
  {
   "cell_type": "code",
   "source": [
    "model.save(\"dogs_cats.h5\")"
   ],
   "metadata": {
    "id": "ea7ZRe4Y5n2i"
   },
   "id": "ea7ZRe4Y5n2i",
   "execution_count": null,
   "outputs": []
  },
  {
   "cell_type": "code",
   "execution_count": null,
   "metadata": {
    "id": "EX9kKx-axr9N"
   },
   "outputs": [],
   "source": [
    "import matplotlib.pyplot as plt"
   ],
   "id": "EX9kKx-axr9N"
  },
  {
   "cell_type": "code",
   "execution_count": null,
   "metadata": {
    "id": "zy1hoRe1xr9P",
    "colab": {
     "base_uri": "https://localhost:8080/",
     "height": 513
    },
    "outputId": "21257973-2b59-4ff7-f41d-148840749016"
   },
   "outputs": [],
   "source": [
    "acc = history.history['accuracy']\n",
    "val_acc = history.history['val_accuracy']\n",
    "\n",
    "loss = history.history['loss']\n",
    "val_loss = history.history['val_loss']\n",
    "\n",
    "plt.figure(figsize=(8, 8))\n",
    "plt.subplot(2, 1, 1)\n",
    "plt.plot(acc, label='Training Accuracy')\n",
    "plt.plot(val_acc, label='Validation Accuracy')\n",
    "plt.legend(loc='lower right')\n",
    "plt.ylabel('Accuracy')\n",
    "plt.ylim([min(plt.ylim()),1])\n",
    "plt.title('Training and Validation Accuracy')\n",
    "\n",
    "plt.subplot(2, 1, 2)\n",
    "plt.plot(loss, label='Training Loss')\n",
    "plt.plot(val_loss, label='Validation Loss')\n",
    "plt.legend(loc='upper right')\n",
    "plt.ylabel('Cross Entropy')\n",
    "plt.ylim([0,1.0])\n",
    "plt.title('Training and Validation Loss')\n",
    "plt.xlabel('epoch')\n",
    "plt.show()"
   ],
   "id": "zy1hoRe1xr9P"
  },
  {
   "cell_type": "code",
   "execution_count": null,
   "metadata": {
    "tags": [],
    "id": "TBIngr92xr9R",
    "colab": {
     "base_uri": "https://localhost:8080/"
    },
    "outputId": "39e04e50-3007-4a87-a87b-e1b92710a72c"
   },
   "outputs": [],
   "source": [
    "import numpy as np\n",
    "from tensorflow.keras.preprocessing import image\n",
    "import os\n",
    "\n",
    "#new = Path.('\\dogs-vs-cats\\test1')\n",
    "\n",
    "images = os.listdir(r'test1')\n",
    "print(images)\n",
    "\n"
   ],
   "id": "TBIngr92xr9R"
  },
  {
   "cell_type": "code",
   "execution_count": null,
   "metadata": {
    "tags": [],
    "id": "nFwNEpAZxr9T",
    "colab": {
     "base_uri": "https://localhost:8080/"
    },
    "outputId": "c89abbac-f04c-471d-e17c-155b0f7239e3"
   },
   "outputs": [],
   "source": [
    "for i in images:\n",
    "    print()\n",
    "    # predicting images\n",
    "    path = r'test1/' + i\n",
    "    # print(path)\n",
    "    img = image.load_img(path, target_size=(150, 150))\n",
    "    x = image.img_to_array(img)\n",
    "    x /= 255\n",
    "    x = np.expand_dims(x, axis=0)\n",
    "\n",
    "    images = np.vstack([x])\n",
    "    classes = model.predict(images, batch_size=10)\n",
    "    print(classes[0])\n",
    "    results = []\n",
    "    if classes[0]>0.5:\n",
    "        results.append('Dog')\n",
    "    if classes[0]< 0.5:\n",
    "        results.append('Cat')"
   ],
   "id": "nFwNEpAZxr9T"
  },
  {
   "cell_type": "code",
   "execution_count": null,
   "metadata": {
    "id": "bJlm34kExr9W"
   },
   "outputs": [],
   "source": [
    "print(results)"
   ],
   "id": "bJlm34kExr9W"
  },
  {
   "cell_type": "code",
   "execution_count": null,
   "metadata": {
    "id": "aW9yNHmfxr9Y"
   },
   "outputs": [],
   "source": [
    "img = os.listdir(r'C:\\Users\\Hp 15\\Documents\\My_files\\Image Classification\\tmp')\n",
    "print(img)"
   ],
   "id": "aW9yNHmfxr9Y"
  },
  {
   "cell_type": "code",
   "execution_count": null,
   "metadata": {
    "id": "Pr5VXy5Dxr9Z"
   },
   "outputs": [],
   "source": [
    "for i in images:\n",
    "    print()\n",
    "    # predicting images\n",
    "    path = r'C:\\Users\\Hp 15\\Documents\\My_files\\Image Classification\\tmp/' + i\n",
    "    img = image.load_img(path, target_size=(150, 150))\n",
    "    x = image.img_to_array(img)\n",
    "    x /= 255\n",
    "    x = np.expand_dims(x, axis=0)\n",
    "\n",
    "    images = np.vstack([x])\n",
    "    classes = model.predict(images, batch_size=10)\n",
    "    print(classes[0])\n",
    "    results = []\n",
    "    if classes[0]>0.5:\n",
    "        results.append('Dog')\n",
    "    else:\n",
    "        results.append('Cat')"
   ],
   "id": "Pr5VXy5Dxr9Z"
  },
  {
   "cell_type": "code",
   "execution_count": null,
   "metadata": {
    "pycharm": {
     "name": "#%%\n"
    },
    "id": "Bbuacnihxr9b"
   },
   "outputs": [],
   "source": [
    "print(results)"
   ],
   "id": "Bbuacnihxr9b"
  }
 ],
 "metadata": {
  "kernelspec": {
   "display_name": "Python 3",
   "language": "python",
   "name": "python3"
  },
  "language_info": {
   "codemirror_mode": {
    "name": "ipython",
    "version": 3
   },
   "file_extension": ".py",
   "mimetype": "text/x-python",
   "name": "python",
   "nbconvert_exporter": "python",
   "pygments_lexer": "ipython3",
   "version": "3.8.5"
  },
  "colab": {
   "provenance": [],
   "include_colab_link": true
  },
  "accelerator": "GPU"
 },
 "nbformat": 4,
 "nbformat_minor": 5
}